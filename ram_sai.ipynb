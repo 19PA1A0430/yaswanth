{
  "nbformat": 4,
  "nbformat_minor": 0,
  "metadata": {
    "colab": {
      "name": "Untitled0.ipynb",
      "provenance": [],
      "authorship_tag": "ABX9TyOr7Au1yiJ8ggSs5m3VXuYU",
      "include_colab_link": true
    },
    "kernelspec": {
      "name": "python3",
      "display_name": "Python 3"
    }
  },
  "cells": [
    {
      "cell_type": "markdown",
      "metadata": {
        "id": "view-in-github",
        "colab_type": "text"
      },
      "source": [
        "<a href=\"https://colab.research.google.com/github/19PA1A0430/yaswanth/blob/master/ram_sai.ipynb\" target=\"_parent\"><img src=\"https://colab.research.google.com/assets/colab-badge.svg\" alt=\"Open In Colab\"/></a>"
      ]
    },
    {
      "cell_type": "code",
      "metadata": {
        "id": "J3G5XXAw2ZX7",
        "colab_type": "code",
        "colab": {
          "base_uri": "https://localhost:8080/",
          "height": 263
        },
        "outputId": "1190ae99-961b-4996-b746-1196d646292f"
      },
      "source": [
        "import pandas as pd\n",
        "a=pd.read_csv(\"/content/ram_sai.csv\")\n",
        "print(a)"
      ],
      "execution_count": 1,
      "outputs": [
        {
          "output_type": "stream",
          "text": [
            "           %  ... TOTAL POLL PERCENTAGE\n",
            "0      36.82  ...                 65.82\n",
            "1      31.38  ...                 65.82\n",
            "2      29.63  ...                 65.82\n",
            "3       0.99  ...                 65.82\n",
            "4       0.23  ...                 65.82\n",
            "...      ...  ...                   ...\n",
            "13947   0.18  ...                 75.35\n",
            "13948   0.17  ...                 75.35\n",
            "13949   0.17  ...                 75.35\n",
            "13950   0.11  ...                 75.35\n",
            "13951   0.10  ...                 75.35\n",
            "\n",
            "[13952 rows x 12 columns]\n"
          ],
          "name": "stdout"
        }
      ]
    },
    {
      "cell_type": "code",
      "metadata": {
        "id": "4CA6Tpcd4Laa",
        "colab_type": "code",
        "colab": {
          "base_uri": "https://localhost:8080/",
          "height": 262
        },
        "outputId": "5788d468-336a-40fc-8805-f2ee5a98e7cf"
      },
      "source": [
        "import matplotlib.pyplot as plt\n",
        "#b=a.head(10)\n",
        "b.plot(kind=\"bar\")\n",
        "plt.show()\n"
      ],
      "execution_count": 17,
      "outputs": [
        {
          "output_type": "display_data",
          "data": {
            "image/png": "[encoded data removed]",
            "text/plain": [
              "<Figure size 432x288 with 1 Axes>"
            ]
          },
          "metadata": {
            "tags": []
          }
        }
      ]
    },
    {
      "cell_type": "code",
      "metadata": {
        "id": "spRvEBc055n2",
        "colab_type": "code",
        "colab": {
          "base_uri": "https://localhost:8080/",
          "height": 298
        },
        "outputId": "fe173a74-0dce-4964-8955-6a0fad714e4e"
      },
      "source": [
        "import numpy as np\n",
        "b=a.iloc[0:15,0:4]\n",
        "b.iloc[0:5,0:4]=np.nan\n",
        "print(b)"
      ],
      "execution_count": 25,
      "outputs": [
        {
          "output_type": "stream",
          "text": [
            "        %                     CANDIDATE        CONSTITUENCY   No.\n",
            "0     NaN                           NaN                 NaN   NaN\n",
            "1     NaN                           NaN                 NaN   NaN\n",
            "2     NaN                           NaN                 NaN   NaN\n",
            "3     NaN                           NaN                 NaN   NaN\n",
            "4     NaN                           NaN                 NaN   NaN\n",
            "5    0.22         NAGESWARA RAO TANGUDU          SRIKAKULAM   6.0\n",
            "6    0.22               RAJANA RAMA RAO          SRIKAKULAM   7.0\n",
            "7    0.20            KUNCHAM KANAKA RAO          SRIKAKULAM   8.0\n",
            "8    0.16                BOTCHA RAMARAO          SRIKAKULAM   9.0\n",
            "9    0.14  B.B.A PADMANABHA SARMA(ABBI)          SRIKAKULAM  10.0\n",
            "10  39.95  PRADEEP KUMAR DEV VYRICHERLA  PARVATHIPURAM (ST)   1.0\n",
            "11  38.52      VISWASARAI NARASIMHA RAO  PARVATHIPURAM (ST)   2.0\n",
            "12  17.42   SATRUCHERLA VIJAYA RAMARAJU  PARVATHIPURAM (ST)   3.0\n",
            "13   1.80              CHUKKA MAHALAXMI  PARVATHIPURAM (ST)   4.0\n",
            "14   1.21               VOOYAKA MUTYALU  PARVATHIPURAM (ST)   5.0\n"
          ],
          "name": "stdout"
        }
      ]
    },
    {
      "cell_type": "code",
      "metadata": {
        "id": "LIsLuN1N35b0",
        "colab_type": "code",
        "colab": {
          "base_uri": "https://localhost:8080/",
          "height": 263
        },
        "outputId": "2bd3c9ab-705f-4fe3-fd30-0ef7a8f33931"
      },
      "source": [
        "a.drop([\"%\"],axis=1,inplace=True)\n",
        "print(a)"
      ],
      "execution_count": 26,
      "outputs": [
        {
          "output_type": "stream",
          "text": [
            "            CANDIDATE CONSTITUENCY  ...  TOTAL ELECTORS TOTAL POLL PERCENTAGE\n",
            "0                 NaN          NaN  ...          983329                 65.82\n",
            "1                 NaN          NaN  ...          983329                 65.82\n",
            "2                 NaN          NaN  ...          983329                 65.82\n",
            "3                 NaN          NaN  ...          983329                 65.82\n",
            "4                 NaN          NaN  ...          983329                 65.82\n",
            "...               ...          ...  ...             ...                   ...\n",
            "13947     G. ELUMALAI  PONDICHERRY  ...          633635                 75.35\n",
            "13948    V. NADARAJAN  PONDICHERRY  ...          633635                 75.35\n",
            "13949      S. KAMARAJ  PONDICHERRY  ...          633635                 75.35\n",
            "13950   K. PADMARAJAN  PONDICHERRY  ...          633635                 75.35\n",
            "13951  P. VIJAYAKUMAR  PONDICHERRY  ...          633635                 75.35\n",
            "\n",
            "[13952 rows x 11 columns]\n"
          ],
          "name": "stdout"
        }
      ]
    },
    {
      "cell_type": "code",
      "metadata": {
        "id": "Nsio-WowAPYj",
        "colab_type": "code",
        "colab": {
          "base_uri": "https://localhost:8080/",
          "height": 281
        },
        "outputId": "f677a4ef-e211-41e3-8410-fb5f6dd07f32"
      },
      "source": [
        "a.set_index(\"CANDIDATE\",inplace=True)\n",
        "print(a)"
      ],
      "execution_count": 27,
      "outputs": [
        {
          "output_type": "stream",
          "text": [
            "               CONSTITUENCY   No.  ... TOTAL ELECTORS TOTAL POLL PERCENTAGE\n",
            "CANDIDATE                          ...                                     \n",
            "NaN                     NaN   NaN  ...         983329                 65.82\n",
            "NaN                     NaN   NaN  ...         983329                 65.82\n",
            "NaN                     NaN   NaN  ...         983329                 65.82\n",
            "NaN                     NaN   NaN  ...         983329                 65.82\n",
            "NaN                     NaN   NaN  ...         983329                 65.82\n",
            "...                     ...   ...  ...            ...                   ...\n",
            "G. ELUMALAI     PONDICHERRY  17.0  ...         633635                 75.35\n",
            "V. NADARAJAN    PONDICHERRY  18.0  ...         633635                 75.35\n",
            "S. KAMARAJ      PONDICHERRY  19.0  ...         633635                 75.35\n",
            "K. PADMARAJAN   PONDICHERRY  20.0  ...         633635                 75.35\n",
            "P. VIJAYAKUMAR  PONDICHERRY  21.0  ...         633635                 75.35\n",
            "\n",
            "[13952 rows x 10 columns]\n"
          ],
          "name": "stdout"
        }
      ]
    },
    {
      "cell_type": "code",
      "metadata": {
        "id": "eDq9d3weApz4",
        "colab_type": "code",
        "colab": {
          "base_uri": "https://localhost:8080/",
          "height": 281
        },
        "outputId": "792090a9-0ac5-40ce-fef9-d64b656eecaf"
      },
      "source": [
        "t=a.fillna(\"sri\")\n",
        "print(t)"
      ],
      "execution_count": 34,
      "outputs": [
        {
          "output_type": "stream",
          "text": [
            "               CONSTITUENCY  No.  ... TOTAL ELECTORS TOTAL POLL PERCENTAGE\n",
            "CANDIDATE                         ...                                     \n",
            "NaN                     sri  sri  ...         983329                 65.82\n",
            "NaN                     sri  sri  ...         983329                 65.82\n",
            "NaN                     sri  sri  ...         983329                 65.82\n",
            "NaN                     sri  sri  ...         983329                 65.82\n",
            "NaN                     sri  sri  ...         983329                 65.82\n",
            "...                     ...  ...  ...            ...                   ...\n",
            "G. ELUMALAI     PONDICHERRY   17  ...         633635                 75.35\n",
            "V. NADARAJAN    PONDICHERRY   18  ...         633635                 75.35\n",
            "S. KAMARAJ      PONDICHERRY   19  ...         633635                 75.35\n",
            "K. PADMARAJAN   PONDICHERRY   20  ...         633635                 75.35\n",
            "P. VIJAYAKUMAR  PONDICHERRY   21  ...         633635                 75.35\n",
            "\n",
            "[13952 rows x 10 columns]\n"
          ],
          "name": "stdout"
        }
      ]
    },
    {
      "cell_type": "code",
      "metadata": {
        "id": "BVQNDGoWErDL",
        "colab_type": "code",
        "colab": {
          "base_uri": "https://localhost:8080/",
          "height": 281
        },
        "outputId": "5dae751a-ce97-475f-88d8-ef0e3eb4fbd7"
      },
      "source": [
        "a.iloc[1:6,1:4]\n",
        "print(a)"
      ],
      "execution_count": 43,
      "outputs": [
        {
          "output_type": "stream",
          "text": [
            "               CONSTITUENCY   No.  ... TOTAL ELECTORS TOTAL POLL PERCENTAGE\n",
            "CANDIDATE                          ...                                     \n",
            "NaN                     NaN   NaN  ...         983329                 65.82\n",
            "NaN                     NaN   NaN  ...         983329                 65.82\n",
            "NaN                     NaN   NaN  ...         983329                 65.82\n",
            "NaN                     NaN   NaN  ...         983329                 65.82\n",
            "NaN                     NaN   NaN  ...         983329                 65.82\n",
            "...                     ...   ...  ...            ...                   ...\n",
            "G. ELUMALAI     PONDICHERRY  17.0  ...         633635                 75.35\n",
            "V. NADARAJAN    PONDICHERRY  18.0  ...         633635                 75.35\n",
            "S. KAMARAJ      PONDICHERRY  19.0  ...         633635                 75.35\n",
            "K. PADMARAJAN   PONDICHERRY  20.0  ...         633635                 75.35\n",
            "P. VIJAYAKUMAR  PONDICHERRY  21.0  ...         633635                 75.35\n",
            "\n",
            "[13952 rows x 10 columns]\n"
          ],
          "name": "stdout"
        }
      ]
    },
    {
      "cell_type": "code",
      "metadata": {
        "id": "w_Fe_lKDFDsJ",
        "colab_type": "code",
        "colab": {}
      },
      "source": [
        ""
      ],
      "execution_count": 0,
      "outputs": []
    }
  ]
}